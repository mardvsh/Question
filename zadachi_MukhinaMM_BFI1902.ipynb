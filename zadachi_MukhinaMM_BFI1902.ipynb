{
 "cells": [
  {
   "cell_type": "markdown",
   "id": "southeast-refrigerator",
   "metadata": {},
   "source": [
    "# Контрольные задачи по дисциплине СиАОД №1"
   ]
  },
  {
   "cell_type": "markdown",
   "id": "ceramic-phase",
   "metadata": {},
   "source": [
    "# Задача 1. «Треугольник с максимальным периметром»\n",
    "Массив A состоит из целых положительных чисел длин отрезков. Составьте из трех отрезков такой треугольник, чтобы его периметр был максимально возможным. Если невозможно составить треугольник с положительной площадью функция возвращает 0."
   ]
  },
  {
   "cell_type": "code",
   "execution_count": 1,
   "id": "detailed-symbol",
   "metadata": {},
   "outputs": [
    {
     "name": "stdout",
     "output_type": "stream",
     "text": [
      "[3, 2, 3, 4] = Максимальный периметр: 10\n",
      "[1, 2, 1] = Невозможно составить треугольник с положительной площадью\n",
      "[3, 2, 3, 4] = Максимальный периметр: 10\n",
      "[3, 6, 2, 3] = Максимальный периметр: 8\n"
     ]
    }
   ],
   "source": [
    "def maxPerimeter(arr):\n",
    "    maximum = 0\n",
    "    n = len(arr)\n",
    "    for i in range(n - 2):\n",
    "        for j in range(i + 1, n - 1):\n",
    "            for k in range(j + 1, n):  \n",
    "                a = arr[i]\n",
    "                b = arr[j]\n",
    "                c = arr[k]\n",
    "                if(a < b + c and b < a + c \n",
    "                             and c < a + b):\n",
    "                    maximum = max(maximum, a + b + c)\n",
    "    if(maximum == 0):\n",
    "        return (\"Невозможно составить треугольник с положительной площадью\")\n",
    "    else:\n",
    "        return (\"Максимальный периметр: \"+ str(maximum))    \n",
    "    \n",
    "arr = [3,2,3,4]\n",
    "print(arr,\"=\", maxPerimeter(arr))\n",
    "arr = [1, 2, 1]\n",
    "print(arr,\"=\", maxPerimeter(arr))\n",
    "arr = [3, 2, 3, 4]\n",
    "print(arr,\"=\", maxPerimeter(arr))\n",
    "arr = [3, 6, 2, 3]\n",
    "print(arr,\"=\", maxPerimeter(arr))\n"
   ]
  },
  {
   "cell_type": "markdown",
   "id": "incomplete-fleece",
   "metadata": {},
   "source": [
    "# Задача 2. «Максимальное число»\n",
    "Дан массив неотрицательных целых чисел nums. Расположите их в таком порядке, чтобы вместе они образовали максимально возможное число."
   ]
  },
  {
   "cell_type": "code",
   "execution_count": 4,
   "id": "valued-notebook",
   "metadata": {},
   "outputs": [
    {
     "name": "stdout",
     "output_type": "stream",
     "text": [
      "[10, 2] = 210\n",
      "[3, 30, 34, 5, 9] = 9534330\n",
      "[1] = 1\n",
      "[10, 28] = 10\n"
     ]
    }
   ],
   "source": [
    "def maxNum(arr):\n",
    "    def bigger(a, b):\n",
    "        ab = int(str(a) + str(b))\n",
    "        ba = int(str(b) + str(a))\n",
    "        if ab > ba:\n",
    "            return True\n",
    "        else:\n",
    "            return False\n",
    "    \n",
    "    def sortArr(arr):\n",
    "        for i in range(len(arr) - 1):\n",
    "            biggest = i\n",
    "            for j in range(i + 1, len(arr)):\n",
    "                if not bigger(arr[biggest], arr[j]):\n",
    "                    biggest = j\n",
    "            arr[i], arr[biggest] = arr[biggest], arr[i]\n",
    "    \n",
    "    sortArr(arr)\n",
    "    return ''.join(str(e) for e in arr)\n",
    "\n",
    "\n",
    "print(\"[10, 2] =\", maxNum([10,2]))\n",
    "print(\"[3, 30, 34, 5, 9] =\", maxNum([3,30,34,5,9]))\n",
    "print(\"[1] =\", maxNum([1]))\n",
    "print(\"[10, 28] =\", maxNum([10]))"
   ]
  },
  {
   "cell_type": "markdown",
   "id": "coated-canadian",
   "metadata": {},
   "source": [
    "# Задача 3. «Сортировка диагоналей в матрице»\n",
    "Дана матрица mat размером m * n, значения - целочисленные. Напишите функцию, сортирующую каждую диагональ матрицы по возрастанию и возвращающую получившуюся матрицу."
   ]
  },
  {
   "cell_type": "code",
   "execution_count": 5,
   "id": "bright-tattoo",
   "metadata": {},
   "outputs": [
    {
     "name": "stdout",
     "output_type": "stream",
     "text": [
      "Матрица 1:\n",
      "[3, 3, 1, 1]\n",
      "[2, 2, 1, 2]\n",
      "[1, 1, 1, 2]\n",
      "Отсортированная 1: \n",
      "[1, 1, 1, 1]\n",
      "[1, 2, 2, 2]\n",
      "[1, 2, 3, 3]\n",
      "Матрица 2:\n",
      "[11, 25, 66, 1, 69, 7]\n",
      "[23, 55, 17, 45, 15, 52]\n",
      "[75, 31, 36, 44, 58, 8]\n",
      "[22, 27, 33, 25, 68, 4]\n",
      "[84, 28, 14, 11, 5, 50]\n",
      "Отсортированная 2: \n",
      "[5, 17, 4, 1, 52, 7]\n",
      "[11, 11, 25, 45, 8, 69]\n",
      "[14, 23, 25, 44, 58, 15]\n",
      "[22, 27, 31, 36, 50, 66]\n",
      "[84, 28, 75, 33, 55, 68]\n"
     ]
    }
   ],
   "source": [
    "def sortDiag(mat):\n",
    "    m, n = len(mat), len(mat[0])\n",
    "    \n",
    "    temp = [[] for i in range(m+n)]\n",
    "            \n",
    "    for i in range(m):\n",
    "        for j in range(n):\n",
    "            temp[i - j].append(mat[i][j])\n",
    "    \n",
    "    for line in temp:\n",
    "        line.sort(reverse = True)\n",
    "    \n",
    "    for i in range(m):\n",
    "        for j in range(n):\n",
    "            mat[i][j] = temp[i-j].pop()\n",
    "    return mat\n",
    "\n",
    "arr = [[3,3,1,1], [2,2,1,2], [1,1,1,2]]\n",
    "print(\"Матрица 1:\")\n",
    "for l in arr:\n",
    "    print(l) \n",
    "print(\"Отсортированная 1: \")\n",
    "arr = sortDiag(arr)\n",
    "for l in arr:\n",
    "    print(l)\n",
    "arr = [[11, 25, 66, 1, 69, 7], [23, 55, 17, 45, 15, 52], [75, 31, 36, 44, 58, 8], [22, 27, 33, 25, 68, 4], [84, 28, 14, 11, 5, 50]]\n",
    "print(\"Матрица 2:\")\n",
    "for l in arr:\n",
    "    print(l)\n",
    "    \n",
    "print(\"Отсортированная 2: \")\n",
    "arr = sortDiag(arr)\n",
    "for l in arr:\n",
    "    print(l)"
   ]
  },
  {
   "cell_type": "code",
   "execution_count": null,
   "id": "directed-cover",
   "metadata": {},
   "outputs": [],
   "source": []
  }
 ],
 "metadata": {
  "kernelspec": {
   "display_name": "Python 3",
   "language": "python",
   "name": "python3"
  },
  "language_info": {
   "codemirror_mode": {
    "name": "ipython",
    "version": 3
   },
   "file_extension": ".py",
   "mimetype": "text/x-python",
   "name": "python",
   "nbconvert_exporter": "python",
   "pygments_lexer": "ipython3",
   "version": "3.8.5"
  }
 },
 "nbformat": 4,
 "nbformat_minor": 5
}
