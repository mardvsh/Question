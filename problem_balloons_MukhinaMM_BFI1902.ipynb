{
 "cells": [
  {
   "cell_type": "markdown",
   "id": "amino-stocks",
   "metadata": {},
   "source": [
    "# Задача 1. «Шарики и стрелы»\n",
    "Некоторые сферические шарики распределены по двухмерному пространству. Для каждого\n",
    "шарика даны xкоординаты начала и конца его горизонтального диаметра. Так как пространство\n",
    "двумерно, то yкоординаты не имеют значения в данной задаче. Координата xstart всегда меньше\n",
    "xend.\n",
    "Стрелу можно выстрелить строго вертикально (вдоль yоси) из разных точек xоси. Шарик\n",
    "с координатами xstart и xend уничтожается стрелой, если она была выпущена из такой позиции\n",
    "x, что xstart ⩽ x ⩽ xend. Когда стрела выпущена, она летит в пространстве бесконечное время\n",
    "(уничтожая все шарики на пути).\n",
    "Дан массив points, где points[i] = [xstart, xend]. Напишите функцию, возвращающую минимальное количество стрел, которые нужно выпустить, чтобы уничтожить все шарики"
   ]
  },
  {
   "cell_type": "code",
   "execution_count": 9,
   "id": "brutal-teacher",
   "metadata": {},
   "outputs": [
    {
     "name": "stdout",
     "output_type": "stream",
     "text": [
      "Массив: points = [[346, 913], [363, 616], [376, 883], [390, 706], [674, 870]]\n",
      "\n",
      "Количество выстрелов:  1\n"
     ]
    }
   ],
   "source": [
    "import random\n",
    "\n",
    "def generate_arrG(size):\n",
    "    arrG = []\n",
    "    for i in range(size):\n",
    "        arrG.append(random.randint(0, 1000))\n",
    "\n",
    "    arrG.sort()\n",
    "    return arrG\n",
    "\n",
    "def sort_arrS(arrG):\n",
    "    for i in range(len(arrG) - 1):\n",
    "        min_Xstart = arrG[i][0]\n",
    "        min_index = i\n",
    "        for j in range(i + 1, len(arrG)):\n",
    "            if min_Xstart > arrG[j][0]:\n",
    "                min_index = j\n",
    "                min_Xstart = arrG[j][0]\n",
    "\n",
    "        if not min_index==i:\n",
    "            arrG[min_index],arrG[i]=arrG[i],arrG[min_index]\n",
    "            \n",
    "def exercise():\n",
    "    points=[]\n",
    "    size = 5\n",
    "    for i in range(size):\n",
    "        points.append(generate_arrG(2))\n",
    "\n",
    "    sort_arrS(points)\n",
    "    print(\"Массив: points =\", points)\n",
    "\n",
    "    shots=0\n",
    "\n",
    "    while len(points)>0:\n",
    "        k_balls=0\n",
    "        i = 1\n",
    "        while i<len(points) and points[i - 1][1]>=points[i][0] and points[0][1]>=points[i][0]:\n",
    "            i+=1\n",
    "            k_balls+=1\n",
    "\n",
    "        while k_balls>=0:\n",
    "            del points[k_balls]\n",
    "            k_balls-=1\n",
    "\n",
    "        shots+=1\n",
    "\n",
    "    print(\"\\nКоличество выстрелов: \",shots)\n",
    "exercise()"
   ]
  }
 ],
 "metadata": {
  "kernelspec": {
   "display_name": "Python 3",
   "language": "python",
   "name": "python3"
  },
  "language_info": {
   "codemirror_mode": {
    "name": "ipython",
    "version": 3
   },
   "file_extension": ".py",
   "mimetype": "text/x-python",
   "name": "python",
   "nbconvert_exporter": "python",
   "pygments_lexer": "ipython3",
   "version": "3.8.5"
  }
 },
 "nbformat": 4,
 "nbformat_minor": 5
}
