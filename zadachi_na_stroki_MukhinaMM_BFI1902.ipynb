{
 "cells": [
  {
   "cell_type": "markdown",
   "id": "amended-default",
   "metadata": {},
   "source": [
    "# Задача 1\n",
    "Даны две строки: s1 и s2 с одинаковым размером, проверьте, может ли\n",
    "некоторая перестановка строки s1 “победить” некоторую перестановку\n",
    "строки s2 или наоборот.\n",
    "Строка x может “победить” строку y (обе имеют размер n), если x[i]> = y\n",
    "[i] (в алфавитном порядке) для всех i от 0 до n-1."
   ]
  },
  {
   "cell_type": "code",
   "execution_count": 3,
   "id": "departmental-examination",
   "metadata": {},
   "outputs": [
    {
     "name": "stdout",
     "output_type": "stream",
     "text": [
      "Может победить?  True\n"
     ]
    }
   ],
   "source": [
    "def pobeda(str1, str2):\n",
    "    if len(str1)!=len(str2):\n",
    "        return False\n",
    "    st1=list(str1)\n",
    "    st2=list(str2)\n",
    "    l=len(st1)\n",
    "    st1.sort()\n",
    "    st2.sort()\n",
    "    i=0\n",
    "    while i<l and st1[i]==st2[i]:\n",
    "        i+=1\n",
    "    if i == l:\n",
    "        return True\n",
    "    if st1[i]>st2[i]:\n",
    "        for k in range(len(st1)):\n",
    "            if(st1[k]<st2[k]):\n",
    "                return False\n",
    "        return True\n",
    "    else:\n",
    "        for k in range(len(st2)):\n",
    "            if(st2[k]<st1[k]):\n",
    "                return False\n",
    "        return True\n",
    "            \n",
    "str1 = 'abc'\n",
    "str2 = 'xya'\n",
    "print(\"Может победить? \", pobeda(str1, str2))"
   ]
  },
  {
   "cell_type": "markdown",
   "id": "quantitative-picking",
   "metadata": {},
   "source": [
    "# Задача 2\n",
    "Дана строка s, вернуть самую длинную полиндромную подстроку в s."
   ]
  },
  {
   "cell_type": "code",
   "execution_count": 14,
   "id": "collective-brush",
   "metadata": {},
   "outputs": [
    {
     "name": "stdout",
     "output_type": "stream",
     "text": [
      "Самая длинная палиндромная строка:  bab\n"
     ]
    }
   ],
   "source": [
    "def palindrome(x):\n",
    "    if len(x) <= 1: \n",
    "        return False\n",
    "    return x == x[::-1] \n",
    "def palindrome(s):\n",
    "    last = len(s)\n",
    "    maxstr = ''\n",
    "    for i in range(last):\n",
    "        for j in range(i, last):\n",
    "            b = s[i:j+1] \n",
    "            if palindrome_test(b) and len(maxstr)<len(b):\n",
    "                maxstr=b\n",
    "    return maxstr\n",
    "\n",
    "          \n",
    "print(\"Самая длинная палиндромная строка: \", palindrome(\"babad\"))"
   ]
  },
  {
   "cell_type": "markdown",
   "id": "random-reception",
   "metadata": {},
   "source": [
    "# Задача 3\n",
    "Вернуть количество отдельных непустых подстрок текста, которые могут\n",
    "быть записаны как конкатенация некоторой строки с самой собой (т.е. она\n",
    "может быть записана, как a + a, где a - некоторая строка)"
   ]
  },
  {
   "cell_type": "code",
   "execution_count": 12,
   "id": "bearing-pharmaceutical",
   "metadata": {},
   "outputs": [
    {
     "name": "stdout",
     "output_type": "stream",
     "text": [
      "Количество:  3\n"
     ]
    }
   ],
   "source": [
    "def conc(s):\n",
    "    L = len(s)\n",
    "    k = 0\n",
    "    parts = []\n",
    "    for i in range(2, L, 2):\n",
    "        for j in range(L - i + 1):\n",
    "            word = s[j:j + i]\n",
    "            part1 = word[:i // 2]\n",
    "            part2 = word[i // 2:]\n",
    "            if part1 == part2 and not part1 in parts:\n",
    "                parts.append(part1)\n",
    "                k += 1\n",
    "    return k\n",
    "\n",
    "\n",
    "text = \"abcabcabc\"\n",
    "print(\"Количество: \", conc(text))"
   ]
  },
  {
   "cell_type": "code",
   "execution_count": null,
   "id": "advance-coverage",
   "metadata": {},
   "outputs": [],
   "source": []
  }
 ],
 "metadata": {
  "kernelspec": {
   "display_name": "Python 3",
   "language": "python",
   "name": "python3"
  },
  "language_info": {
   "codemirror_mode": {
    "name": "ipython",
    "version": 3
   },
   "file_extension": ".py",
   "mimetype": "text/x-python",
   "name": "python",
   "nbconvert_exporter": "python",
   "pygments_lexer": "ipython3",
   "version": "3.8.5"
  }
 },
 "nbformat": 4,
 "nbformat_minor": 5
}
